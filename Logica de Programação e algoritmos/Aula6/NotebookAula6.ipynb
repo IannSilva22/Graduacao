{
 "cells": [
  {
   "cell_type": "code",
   "execution_count": 5,
   "id": "8fa9ad88",
   "metadata": {},
   "outputs": [
    {
     "name": "stdout",
     "output_type": "stream",
     "text": [
      "('Machado', 'Camisa', 'Bacon', 'Abacate')\n"
     ]
    }
   ],
   "source": [
    "mochila = ('Machado', 'Camisa', 'Bacon', 'Abacate')\n",
    "print(mochila)"
   ]
  },
  {
   "cell_type": "code",
   "execution_count": 6,
   "id": "2f3307ce",
   "metadata": {},
   "outputs": [
    {
     "name": "stdout",
     "output_type": "stream",
     "text": [
      "Machado\n",
      "Bacon\n",
      "('Machado', 'Camisa')\n",
      "('Bacon', 'Abacate')\n",
      "Abacate\n"
     ]
    }
   ],
   "source": [
    "print(mochila[0]) # print do elemento 1 - indice 0\n",
    "print(mochila[2]) # print do elemento 3 - indice 2\n",
    "print(mochila[0:2]) # print dos elementos 1 e 2 - indice 0 e 1\n",
    "print(mochila[2:]) # print dos elementos a partir do indice 2\n",
    "print(mochila[-1]) # print do ultimo "
   ]
  },
  {
   "cell_type": "code",
   "execution_count": 3,
   "id": "87c996fe",
   "metadata": {},
   "outputs": [
    {
     "ename": "TypeError",
     "evalue": "'tuple' object does not support item assignment",
     "output_type": "error",
     "traceback": [
      "\u001b[0;31m---------------------------------------------------------------------------\u001b[0m",
      "\u001b[0;31mTypeError\u001b[0m                                 Traceback (most recent call last)",
      "\u001b[0;32m<ipython-input-3-10e5e4bdcd85>\u001b[0m in \u001b[0;36m<module>\u001b[0;34m\u001b[0m\n\u001b[0;32m----> 1\u001b[0;31m \u001b[0mmochila\u001b[0m\u001b[0;34m[\u001b[0m\u001b[0;36m2\u001b[0m\u001b[0;34m]\u001b[0m \u001b[0;34m=\u001b[0m \u001b[0;34m'Ovos'\u001b[0m\u001b[0;34m\u001b[0m\u001b[0;34m\u001b[0m\u001b[0m\n\u001b[0m",
      "\u001b[0;31mTypeError\u001b[0m: 'tuple' object does not support item assignment"
     ]
    }
   ],
   "source": [
    "mochila[2] = 'Ovos'"
   ]
  },
  {
   "cell_type": "code",
   "execution_count": 7,
   "id": "ac08273e",
   "metadata": {},
   "outputs": [
    {
     "name": "stdout",
     "output_type": "stream",
     "text": [
      "Na minha mochila tem: Machado\n",
      "Na minha mochila tem: Camisa\n",
      "Na minha mochila tem: Bacon\n",
      "Na minha mochila tem: Abacate\n"
     ]
    }
   ],
   "source": [
    "for item in mochila:\n",
    "    print('Na minha mochila tem: {}'.format(item))"
   ]
  },
  {
   "cell_type": "code",
   "execution_count": 10,
   "id": "db05e3a2",
   "metadata": {},
   "outputs": [
    {
     "name": "stdout",
     "output_type": "stream",
     "text": [
      "Na minha mochila tem: Machado\n",
      "Na minha mochila tem: Camisa\n",
      "Na minha mochila tem: Bacon\n",
      "Na minha mochila tem: Abacate\n"
     ]
    }
   ],
   "source": [
    "tam = len(mochila)\n",
    "for i in range(0, tam, 1):\n",
    "    print('Na minha mochila tem: {}'.format(mochila[i]))"
   ]
  },
  {
   "cell_type": "code",
   "execution_count": 11,
   "id": "41456f9d",
   "metadata": {},
   "outputs": [
    {
     "name": "stdout",
     "output_type": "stream",
     "text": [
      "('Machado', 'Camisa', 'Bacon', 'Abacate')\n",
      "('Queijo', 'Canivete')\n",
      "('Machado', 'Camisa', 'Bacon', 'Abacate', 'Queijo', 'Canivete')\n"
     ]
    }
   ],
   "source": [
    "mochila = ('Machado', 'Camisa', 'Bacon', 'Abacate')\n",
    "upgrade = ('Queijo', 'Canivete')\n",
    "mochila_grande = mochila + upgrade\n",
    "\n",
    "print(mochila)\n",
    "print(upgrade)\n",
    "print(mochila_grande)"
   ]
  },
  {
   "cell_type": "code",
   "execution_count": 12,
   "id": "b56d36b2",
   "metadata": {},
   "outputs": [
    {
     "name": "stdout",
     "output_type": "stream",
     "text": [
      "('Machado', 'Camisa', 'Bacon', 'Abacate', 'Queijo', 'Canivete')\n",
      "('Queijo', 'Canivete', 'Machado', 'Camisa', 'Bacon', 'Abacate')\n"
     ]
    }
   ],
   "source": [
    "mochila_grande_invertida = upgrade + mochila\n",
    "print(mochila_grande)\n",
    "print(mochila_grande_invertida)"
   ]
  },
  {
   "cell_type": "code",
   "execution_count": 13,
   "id": "b7960773",
   "metadata": {},
   "outputs": [
    {
     "name": "stdout",
     "output_type": "stream",
     "text": [
      "Tupla: (1, 2)\n",
      "Resultado: 3\n",
      "\n",
      "Tupla: (1, 2, 3, 4, 5, 6, 7)\n",
      "Resultado: 28\n",
      "\n"
     ]
    }
   ],
   "source": [
    "def soma(*num):\n",
    "   soma = 0\n",
    "   print('Tupla: {}'.format(num))\n",
    "   for i in num:\n",
    "       soma += i\n",
    "   return soma\n",
    "print('Resultado: {}\\n'.format(soma(1, 2)))\n",
    "print('Resultado: {}\\n'.format(soma(1,2,3,4,5,6,7)))"
   ]
  },
  {
   "cell_type": "code",
   "execution_count": 14,
   "id": "29d90210",
   "metadata": {},
   "outputs": [
    {
     "data": {
      "text/plain": [
       "('Machado', 'Camisa', 'Bacon', 'Abacate')"
      ]
     },
     "execution_count": 14,
     "metadata": {},
     "output_type": "execute_result"
    }
   ],
   "source": [
    "mochila"
   ]
  },
  {
   "cell_type": "code",
   "execution_count": 15,
   "id": "aa57130e",
   "metadata": {},
   "outputs": [
    {
     "name": "stdout",
     "output_type": "stream",
     "text": [
      "Lista:  ['Machado', 'Camisa', 'Bacon', 'Abacate']\n"
     ]
    }
   ],
   "source": [
    "mochila = ['Machado', 'Camisa', 'Bacon', 'Abacate']\n",
    "print('Lista: ', mochila)"
   ]
  },
  {
   "cell_type": "code",
   "execution_count": 16,
   "id": "ef637c17",
   "metadata": {},
   "outputs": [
    {
     "name": "stdout",
     "output_type": "stream",
     "text": [
      "Lista:  ['Machado', 'Camisa', 'Bacon', 'Abacate', 'Ovos']\n"
     ]
    }
   ],
   "source": [
    "mochila.append('Ovos')\n",
    "print('Lista: ', mochila)"
   ]
  },
  {
   "cell_type": "code",
   "execution_count": 17,
   "id": "0061c073",
   "metadata": {},
   "outputs": [
    {
     "name": "stdout",
     "output_type": "stream",
     "text": [
      "Lista:  ['Machado', 'Canivete', 'Camisa', 'Bacon', 'Abacate', 'Ovos']\n"
     ]
    }
   ],
   "source": [
    "mochila.insert(1, 'Canivete')\n",
    "print('Lista: ', mochila)"
   ]
  },
  {
   "cell_type": "code",
   "execution_count": 18,
   "id": "659c28e8",
   "metadata": {},
   "outputs": [
    {
     "name": "stdout",
     "output_type": "stream",
     "text": [
      "Lista:  ['Machado', 'Camisa', 'Bacon', 'Abacate', 'Ovos']\n",
      "Lista:  ['Machado', 'Camisa', 'Bacon', 'Abacate']\n"
     ]
    }
   ],
   "source": [
    "del mochila[1]\n",
    "print('Lista: ', mochila)\n",
    "mochila.remove('Ovos')\n",
    "print('Lista: ', mochila)   "
   ]
  },
  {
   "cell_type": "code",
   "execution_count": 19,
   "id": "b5c19a7b",
   "metadata": {},
   "outputs": [
    {
     "name": "stdout",
     "output_type": "stream",
     "text": [
      "[5, 7, 9, 11]\n",
      "[5, 7, 9, 11]\n"
     ]
    }
   ],
   "source": [
    "# mesma referência\n",
    "x = [5, 7, 9, 11]\n",
    "y = x\n",
    "print(x)\n",
    "print(y)"
   ]
  },
  {
   "cell_type": "code",
   "execution_count": 20,
   "id": "57c4264c",
   "metadata": {},
   "outputs": [
    {
     "name": "stdout",
     "output_type": "stream",
     "text": [
      "[2, 7, 9, 11]\n",
      "[2, 7, 9, 11]\n"
     ]
    }
   ],
   "source": [
    "y[0] = 2\n",
    "print(x)\n",
    "print(y)"
   ]
  },
  {
   "cell_type": "code",
   "execution_count": 21,
   "id": "124b7568",
   "metadata": {},
   "outputs": [
    {
     "name": "stdout",
     "output_type": "stream",
     "text": [
      "[5, 7, 9, 11]\n",
      "[5, 7, 9, 11]\n"
     ]
    }
   ],
   "source": [
    "# cópia\n",
    "x = [5, 7, 9, 11]\n",
    "y = x[:]\n",
    "print(x)\n",
    "print(y)"
   ]
  },
  {
   "cell_type": "code",
   "execution_count": 22,
   "id": "a2004797",
   "metadata": {},
   "outputs": [
    {
     "name": "stdout",
     "output_type": "stream",
     "text": [
      "[5, 7, 9, 11]\n",
      "[2, 7, 9, 11]\n"
     ]
    }
   ],
   "source": [
    "y[0] = 2\n",
    "print(x)\n",
    "print(y)"
   ]
  },
  {
   "cell_type": "code",
   "execution_count": 23,
   "id": "44200641",
   "metadata": {},
   "outputs": [
    {
     "name": "stdout",
     "output_type": "stream",
     "text": [
      "Machado\n"
     ]
    }
   ],
   "source": [
    "print(mochila[0])"
   ]
  },
  {
   "cell_type": "code",
   "execution_count": 26,
   "id": "3b6ced14",
   "metadata": {},
   "outputs": [
    {
     "name": "stdout",
     "output_type": "stream",
     "text": [
      "M\n",
      "a\n"
     ]
    }
   ],
   "source": [
    "print(mochila[0][0])\n",
    "print(mochila[2][1])"
   ]
  },
  {
   "cell_type": "markdown",
   "id": "3df54730",
   "metadata": {},
   "source": [
    "print(mochila)"
   ]
  },
  {
   "cell_type": "code",
   "execution_count": 27,
   "id": "a7ab5b08",
   "metadata": {},
   "outputs": [
    {
     "name": "stdout",
     "output_type": "stream",
     "text": [
      "Machado\n",
      "Camisa\n",
      "Bacon\n",
      "Abacate\n"
     ]
    }
   ],
   "source": [
    "for item in mochila:\n",
    "    for letra in item:\n",
    "        print(letra, end='')\n",
    "    print()"
   ]
  },
  {
   "cell_type": "code",
   "execution_count": 28,
   "id": "0451cc99",
   "metadata": {},
   "outputs": [
    {
     "name": "stdout",
     "output_type": "stream",
     "text": [
      "Machado\n",
      "Camisa\n",
      "Bacon\n",
      "Abacate\n"
     ]
    }
   ],
   "source": [
    "for i in range(0, len(mochila), 1):\n",
    "    for j in range(0, len(mochila[i]), 1):\n",
    "        print(mochila[i][j], end='')\n",
    "    print()\n",
    "    "
   ]
  },
  {
   "cell_type": "code",
   "execution_count": 29,
   "id": "6b39ce0a",
   "metadata": {},
   "outputs": [
    {
     "name": "stdout",
     "output_type": "stream",
     "text": [
      "Digite o nome do item: Tomate\n",
      "Digite a quantidade: 2\n",
      "Digite o valor: 2.50\n"
     ]
    },
    {
     "ename": "KeyboardInterrupt",
     "evalue": "Interrupted by user",
     "output_type": "error",
     "traceback": [
      "\u001b[0;31m---------------------------------------------------------------------------\u001b[0m",
      "\u001b[0;31mKeyboardInterrupt\u001b[0m                         Traceback (most recent call last)",
      "\u001b[0;32m<ipython-input-29-a3597701d67e>\u001b[0m in \u001b[0;36m<module>\u001b[0;34m\u001b[0m\n\u001b[1;32m      3\u001b[0m \u001b[0;34m\u001b[0m\u001b[0m\n\u001b[1;32m      4\u001b[0m \u001b[0;32mfor\u001b[0m \u001b[0mi\u001b[0m \u001b[0;32min\u001b[0m \u001b[0mrange\u001b[0m\u001b[0;34m(\u001b[0m\u001b[0;36m3\u001b[0m\u001b[0;34m)\u001b[0m\u001b[0;34m:\u001b[0m\u001b[0;34m\u001b[0m\u001b[0;34m\u001b[0m\u001b[0m\n\u001b[0;32m----> 5\u001b[0;31m     \u001b[0mitem\u001b[0m\u001b[0;34m.\u001b[0m\u001b[0mappend\u001b[0m\u001b[0;34m(\u001b[0m\u001b[0minput\u001b[0m\u001b[0;34m(\u001b[0m\u001b[0;34m'Digite o nome do item: '\u001b[0m\u001b[0;34m)\u001b[0m\u001b[0;34m)\u001b[0m\u001b[0;34m\u001b[0m\u001b[0;34m\u001b[0m\u001b[0m\n\u001b[0m\u001b[1;32m      6\u001b[0m     \u001b[0mitem\u001b[0m\u001b[0;34m.\u001b[0m\u001b[0mappend\u001b[0m\u001b[0;34m(\u001b[0m\u001b[0mint\u001b[0m\u001b[0;34m(\u001b[0m\u001b[0minput\u001b[0m\u001b[0;34m(\u001b[0m\u001b[0;34m'Digite a quantidade: '\u001b[0m\u001b[0;34m)\u001b[0m\u001b[0;34m)\u001b[0m\u001b[0;34m)\u001b[0m\u001b[0;34m\u001b[0m\u001b[0;34m\u001b[0m\u001b[0m\n\u001b[1;32m      7\u001b[0m     \u001b[0mitem\u001b[0m\u001b[0;34m.\u001b[0m\u001b[0mappend\u001b[0m\u001b[0;34m(\u001b[0m\u001b[0mfloat\u001b[0m\u001b[0;34m(\u001b[0m\u001b[0minput\u001b[0m\u001b[0;34m(\u001b[0m\u001b[0;34m'Digite o valor: '\u001b[0m\u001b[0;34m)\u001b[0m\u001b[0;34m)\u001b[0m\u001b[0;34m)\u001b[0m\u001b[0;34m\u001b[0m\u001b[0;34m\u001b[0m\u001b[0m\n",
      "\u001b[0;32m~/anaconda3/lib/python3.8/site-packages/ipykernel/kernelbase.py\u001b[0m in \u001b[0;36mraw_input\u001b[0;34m(self, prompt)\u001b[0m\n\u001b[1;32m    858\u001b[0m                 \u001b[0;34m\"raw_input was called, but this frontend does not support input requests.\"\u001b[0m\u001b[0;34m\u001b[0m\u001b[0;34m\u001b[0m\u001b[0m\n\u001b[1;32m    859\u001b[0m             )\n\u001b[0;32m--> 860\u001b[0;31m         return self._input_request(str(prompt),\n\u001b[0m\u001b[1;32m    861\u001b[0m             \u001b[0mself\u001b[0m\u001b[0;34m.\u001b[0m\u001b[0m_parent_ident\u001b[0m\u001b[0;34m,\u001b[0m\u001b[0;34m\u001b[0m\u001b[0;34m\u001b[0m\u001b[0m\n\u001b[1;32m    862\u001b[0m             \u001b[0mself\u001b[0m\u001b[0;34m.\u001b[0m\u001b[0m_parent_header\u001b[0m\u001b[0;34m,\u001b[0m\u001b[0;34m\u001b[0m\u001b[0;34m\u001b[0m\u001b[0m\n",
      "\u001b[0;32m~/anaconda3/lib/python3.8/site-packages/ipykernel/kernelbase.py\u001b[0m in \u001b[0;36m_input_request\u001b[0;34m(self, prompt, ident, parent, password)\u001b[0m\n\u001b[1;32m    902\u001b[0m             \u001b[0;32mexcept\u001b[0m \u001b[0mKeyboardInterrupt\u001b[0m\u001b[0;34m:\u001b[0m\u001b[0;34m\u001b[0m\u001b[0;34m\u001b[0m\u001b[0m\n\u001b[1;32m    903\u001b[0m                 \u001b[0;31m# re-raise KeyboardInterrupt, to truncate traceback\u001b[0m\u001b[0;34m\u001b[0m\u001b[0;34m\u001b[0m\u001b[0;34m\u001b[0m\u001b[0m\n\u001b[0;32m--> 904\u001b[0;31m                 \u001b[0;32mraise\u001b[0m \u001b[0mKeyboardInterrupt\u001b[0m\u001b[0;34m(\u001b[0m\u001b[0;34m\"Interrupted by user\"\u001b[0m\u001b[0;34m)\u001b[0m \u001b[0;32mfrom\u001b[0m \u001b[0;32mNone\u001b[0m\u001b[0;34m\u001b[0m\u001b[0;34m\u001b[0m\u001b[0m\n\u001b[0m\u001b[1;32m    905\u001b[0m             \u001b[0;32mexcept\u001b[0m \u001b[0mException\u001b[0m \u001b[0;32mas\u001b[0m \u001b[0me\u001b[0m\u001b[0;34m:\u001b[0m\u001b[0;34m\u001b[0m\u001b[0;34m\u001b[0m\u001b[0m\n\u001b[1;32m    906\u001b[0m                 \u001b[0mself\u001b[0m\u001b[0;34m.\u001b[0m\u001b[0mlog\u001b[0m\u001b[0;34m.\u001b[0m\u001b[0mwarning\u001b[0m\u001b[0;34m(\u001b[0m\u001b[0;34m\"Invalid Message:\"\u001b[0m\u001b[0;34m,\u001b[0m \u001b[0mexc_info\u001b[0m\u001b[0;34m=\u001b[0m\u001b[0;32mTrue\u001b[0m\u001b[0;34m)\u001b[0m\u001b[0;34m\u001b[0m\u001b[0;34m\u001b[0m\u001b[0m\n",
      "\u001b[0;31mKeyboardInterrupt\u001b[0m: Interrupted by user"
     ]
    }
   ],
   "source": [
    "item = []\n",
    "mercado = []\n",
    "\n",
    "for i in range(3):\n",
    "    item.append(input('Digite o nome do item: '))\n",
    "    item.append(int(input('Digite a quantidade: ')))\n",
    "    item.append(float(input('Digite o valor: ')))\n",
    "    mercado.append(item[:])\n",
    "    item.clear()\n",
    "print(mercado)"
   ]
  },
  {
   "cell_type": "code",
   "execution_count": 31,
   "id": "ae622374",
   "metadata": {},
   "outputs": [
    {
     "name": "stdout",
     "output_type": "stream",
     "text": [
      "Digite o nome do item: arroz\n",
      "Digite a quantidade: 2\n",
      "Digite o valor: 2.50\n",
      "Digite o nome do item: cebola\n",
      "Digite a quantidade: 5\n",
      "Digite o valor: 1\n",
      "Digite o nome do item: feijao\n",
      "Digite a quantidade: 2\n",
      "Digite o valor: 10\n",
      "[['arroz', 2, 2.5], ['cebola', 5, 1.0], ['feijao', 2, 10.0]]\n"
     ]
    }
   ],
   "source": [
    "mercado = []\n",
    "\n",
    "for i in range(3):\n",
    "    nome = input('Digite o nome do item: ')\n",
    "    qtd = int(input('Digite a quantidade: '))\n",
    "    valor = float(input('Digite o valor: '))\n",
    "    mercado.append([nome, qtd, valor])\n",
    "print(mercado)"
   ]
  },
  {
   "cell_type": "code",
   "execution_count": 39,
   "id": "9d369ed0",
   "metadata": {},
   "outputs": [
    {
     "name": "stdout",
     "output_type": "stream",
     "text": [
      "Lista de compras:\n",
      "--------------------\n",
      " item | quantidade | valor unitário | total do item\n",
      " arroz | 2 | 2.5 | 5.0\n",
      " cebola | 5 | 1.0 | 5.0\n",
      " feijao | 2 | 10.0 | 20.0\n",
      "--------------------\n",
      "Total a ser pago: 30.0\n"
     ]
    }
   ],
   "source": [
    "soma = 0\n",
    "print('Lista de compras:')\n",
    "print('-'*20)\n",
    "print(' item | quantidade | valor unitário | total do item')\n",
    "for item in mercado:\n",
    "    print(' {} | {} | {} | {}'.format(item[0], item[1], item[2], item[1] * item[2]))\n",
    "    soma += item[1] * item[2]\n",
    "print('-'*20)\n",
    "print('Total a ser pago: {}'.format(soma))"
   ]
  },
  {
   "cell_type": "code",
   "execution_count": 41,
   "id": "acc2e6b4",
   "metadata": {},
   "outputs": [
    {
     "name": "stdout",
     "output_type": "stream",
     "text": [
      "{'nome': 'Super Mario', 'desenvolvedora': 'Nintendo', 'ano': 1990}\n"
     ]
    }
   ],
   "source": [
    "game = {'nome':'Super Mario',\n",
    "       'desenvolvedora':'Nintendo',\n",
    "       'ano':1990\n",
    "       }\n",
    "print(game)"
   ]
  },
  {
   "cell_type": "code",
   "execution_count": 44,
   "id": "86751123",
   "metadata": {},
   "outputs": [
    {
     "name": "stdout",
     "output_type": "stream",
     "text": [
      "Super Mario\n",
      "Nintendo\n",
      "1990\n"
     ]
    }
   ],
   "source": [
    "print(game['nome'])\n",
    "print(game['desenvolvedora'])\n",
    "print(game['ano'])"
   ]
  },
  {
   "cell_type": "code",
   "execution_count": 46,
   "id": "ef5f38c5",
   "metadata": {},
   "outputs": [
    {
     "name": "stdout",
     "output_type": "stream",
     "text": [
      "dict_values(['Super Mario', 'Nintendo', 1990])\n"
     ]
    }
   ],
   "source": [
    "print(game.values())"
   ]
  },
  {
   "cell_type": "code",
   "execution_count": 47,
   "id": "16803c09",
   "metadata": {},
   "outputs": [
    {
     "name": "stdout",
     "output_type": "stream",
     "text": [
      "nome\n",
      "desenvolvedora\n",
      "ano\n"
     ]
    }
   ],
   "source": [
    "for i in game.keys():\n",
    "    print(i)"
   ]
  },
  {
   "cell_type": "code",
   "execution_count": 49,
   "id": "a41ffca2",
   "metadata": {},
   "outputs": [
    {
     "name": "stdout",
     "output_type": "stream",
     "text": [
      "dict_items([('nome', 'Super Mario'), ('desenvolvedora', 'Nintendo'), ('ano', 1990)])\n"
     ]
    }
   ],
   "source": [
    "print(game.items())"
   ]
  },
  {
   "cell_type": "code",
   "execution_count": 50,
   "id": "a8324df6",
   "metadata": {},
   "outputs": [
    {
     "name": "stdout",
     "output_type": "stream",
     "text": [
      "nome Super Mario\n",
      "desenvolvedora Nintendo\n",
      "ano 1990\n"
     ]
    }
   ],
   "source": [
    "for i, j in game.items():\n",
    "    print(i,j)"
   ]
  },
  {
   "cell_type": "code",
   "execution_count": 52,
   "id": "a5ccdc64",
   "metadata": {},
   "outputs": [
    {
     "name": "stdout",
     "output_type": "stream",
     "text": [
      "[{'nome': 'Super Mario', 'videogame': 'Super Nintendo', 'ano': 1990}, {'nome': 'Zelda Ocarina of Time', 'videogame': 'Nintendo 64', 'ano': 1998}, {'nome': 'Pokemon Yellow', 'videogame': 'Game Boy', 'ano': 1999}]\n"
     ]
    }
   ],
   "source": [
    "#lista com dicionarios\n",
    "\n",
    "games = []\n",
    "game1 = {'nome': 'Super Mario',\n",
    "         'videogame':'Super Nintendo',\n",
    "        'ano':1990}\n",
    "game2 = {'nome': 'Zelda Ocarina of Time',\n",
    "        'videogame':'Nintendo 64',\n",
    "        'ano':1998}\n",
    "game3 = {'nome': 'Pokemon Yellow',\n",
    "        'videogame': 'Game Boy',\n",
    "        'ano':1999}\n",
    "games = [game1, game2, game3]\n",
    "print(games)\n",
    "\n",
    "\n"
   ]
  },
  {
   "cell_type": "code",
   "execution_count": 53,
   "id": "12282b1f",
   "metadata": {},
   "outputs": [
    {
     "name": "stdout",
     "output_type": "stream",
     "text": [
      "Qual o nome do jogo? lol\n",
      "Para qual videogame ele foi lançado? pc\n",
      "Qual o ano de lançamento? 2010\n",
      "Qual o nome do jogo? dota2\n",
      "Para qual videogame ele foi lançado? pc\n",
      "Qual o ano de lançamento? 2013\n",
      "Qual o nome do jogo? csgo\n",
      "Para qual videogame ele foi lançado? 2010\n",
      "Qual o ano de lançamento? 1998\n",
      "--------------------\n",
      "O campo nome tem o valor lol.\n",
      "O campo videogame tem o valor pc.\n",
      "O campo ano tem o valor 2010.\n",
      "O campo nome tem o valor dota2.\n",
      "O campo videogame tem o valor pc.\n",
      "O campo ano tem o valor 2013.\n",
      "O campo nome tem o valor csgo.\n",
      "O campo videogame tem o valor 2010.\n",
      "O campo ano tem o valor 1998.\n"
     ]
    }
   ],
   "source": [
    "# cadastro via teclado\n",
    "game = {}\n",
    "games = []\n",
    "for i in range(3):\n",
    "    game['nome'] = input('Qual o nome do jogo? ')\n",
    "    game['videogame'] = input('Para qual videogame ele foi lançado? ')\n",
    "    game['ano'] = input('Qual o ano de lançamento? ')\n",
    "    games.append(game.copy())\n",
    "print('-' * 20)\n",
    "for e in games:\n",
    "    for i, j in e.items():\n",
    "        print('O campo {} tem o valor {}.'.format(i, j))\n",
    "\n",
    "\n"
   ]
  },
  {
   "cell_type": "code",
   "execution_count": 54,
   "id": "d1fecd4d",
   "metadata": {},
   "outputs": [
    {
     "name": "stdout",
     "output_type": "stream",
     "text": [
      "{'nome': ['Super Mario', 'Zelda', 'Pokemon'], 'videogame': ['Super Nintendo', 'Nin64', 'GameBoy'], 'ano': [1990, 1998, 1999]}\n"
     ]
    }
   ],
   "source": [
    "# dicionarios com listas\n",
    "games = {'nome': ['Super Mario', 'Zelda', 'Pokemon'],\n",
    "         'videogame': ['Super Nintendo', 'Nin64', 'GameBoy'],\n",
    "         'ano': [1990, 1998, 1999]}\n",
    "print(games)"
   ]
  },
  {
   "cell_type": "code",
   "execution_count": 55,
   "id": "f26956f2",
   "metadata": {},
   "outputs": [
    {
     "name": "stdout",
     "output_type": "stream",
     "text": [
      "Qual o nome do jogo? Super mario\n",
      "Para qual videogame ele foi lançado? nintendo\n",
      "Qal o ano de lançamento? 1998\n",
      "Qual o nome do jogo? Zelda\n",
      "Para qual videogame ele foi lançado? Nin64\n",
      "Qal o ano de lançamento? 99\n",
      "Qual o nome do jogo? pokemon\n",
      "Para qual videogame ele foi lançado? gameboy\n",
      "Qal o ano de lançamento? 1999\n",
      "------------------------------\n",
      "{'nome': ['Super mario', 'Zelda', 'pokemon'], 'videogame': ['nintendo', 'Nin64', 'gameboy'], 'ano': ['1998', '99', '1999']}\n"
     ]
    }
   ],
   "source": [
    "# entrada via teclado\n",
    "games = {'nome': [], 'videogame': [], 'ano': []}\n",
    "for i in range(3):\n",
    "    nome = input('Qual o nome do jogo? ')\n",
    "    videogame = input('Para qual videogame ele foi lançado? ')\n",
    "    ano = input('Qal o ano de lançamento? ')\n",
    "    games['nome'].append(nome)\n",
    "    games['videogame'].append(videogame)\n",
    "    games['ano'].append(ano)\n",
    "print('-'*30)\n",
    "print(games)\n"
   ]
  },
  {
   "cell_type": "code",
   "execution_count": 56,
   "id": "9d10b00d",
   "metadata": {},
   "outputs": [
    {
     "name": "stdout",
     "output_type": "stream",
     "text": [
      "Algoritmos\n"
     ]
    }
   ],
   "source": [
    "s1 = 'Algoritmos'\n",
    "print(s1)"
   ]
  },
  {
   "cell_type": "code",
   "execution_count": 57,
   "id": "4b4a996b",
   "metadata": {},
   "outputs": [
    {
     "ename": "TypeError",
     "evalue": "'str' object does not support item assignment",
     "output_type": "error",
     "traceback": [
      "\u001b[0;31m---------------------------------------------------------------------------\u001b[0m",
      "\u001b[0;31mTypeError\u001b[0m                                 Traceback (most recent call last)",
      "\u001b[0;32m<ipython-input-57-347923f18232>\u001b[0m in \u001b[0;36m<module>\u001b[0;34m\u001b[0m\n\u001b[0;32m----> 1\u001b[0;31m \u001b[0ms1\u001b[0m\u001b[0;34m[\u001b[0m\u001b[0;36m0\u001b[0m\u001b[0;34m]\u001b[0m \u001b[0;34m=\u001b[0m \u001b[0;34m'a'\u001b[0m\u001b[0;34m\u001b[0m\u001b[0;34m\u001b[0m\u001b[0m\n\u001b[0m",
      "\u001b[0;31mTypeError\u001b[0m: 'str' object does not support item assignment"
     ]
    }
   ],
   "source": [
    "s1[0] = 'a'"
   ]
  },
  {
   "cell_type": "code",
   "execution_count": 58,
   "id": "af7cb676",
   "metadata": {},
   "outputs": [
    {
     "name": "stdout",
     "output_type": "stream",
     "text": [
      "['A', 'l', 'g', 'o', 'r', 'i', 't', 'm', 'o', 's']\n",
      "Algoritmos\n"
     ]
    }
   ],
   "source": [
    "s1 = list('Algoritmos')\n",
    "print(s1)\n",
    "print(''.join(s1))\n"
   ]
  },
  {
   "cell_type": "code",
   "execution_count": 59,
   "id": "7bd858de",
   "metadata": {},
   "outputs": [
    {
     "data": {
      "text/plain": [
       "True"
      ]
     },
     "execution_count": 59,
     "metadata": {},
     "output_type": "execute_result"
    }
   ],
   "source": [
    "s1 = 'Lógica de Programação e Algoritmos'\n",
    "s1.startswith('Lógica')"
   ]
  },
  {
   "cell_type": "code",
   "execution_count": 60,
   "id": "2a0502ad",
   "metadata": {},
   "outputs": [
    {
     "data": {
      "text/plain": [
       "True"
      ]
     },
     "execution_count": 60,
     "metadata": {},
     "output_type": "execute_result"
    }
   ],
   "source": [
    "s1.endswith('Algoritmos')"
   ]
  },
  {
   "cell_type": "code",
   "execution_count": 61,
   "id": "94651ada",
   "metadata": {},
   "outputs": [
    {
     "data": {
      "text/plain": [
       "False"
      ]
     },
     "execution_count": 61,
     "metadata": {},
     "output_type": "execute_result"
    }
   ],
   "source": [
    "s1.endswith('algoritmos')"
   ]
  },
  {
   "cell_type": "code",
   "execution_count": 62,
   "id": "35a3605a",
   "metadata": {},
   "outputs": [
    {
     "data": {
      "text/plain": [
       "True"
      ]
     },
     "execution_count": 62,
     "metadata": {},
     "output_type": "execute_result"
    }
   ],
   "source": [
    "s1.lower().endswith('algoritmos')"
   ]
  },
  {
   "cell_type": "code",
   "execution_count": 65,
   "id": "6676283c",
   "metadata": {},
   "outputs": [
    {
     "name": "stdout",
     "output_type": "stream",
     "text": [
      "LÓGICA DE PROGRAMAÇÃO E ALGORITMOS\n",
      "lógica de programação e algoritmos\n"
     ]
    }
   ],
   "source": [
    "print(s1[:].upper())\n",
    "print(s1.lower())"
   ]
  },
  {
   "cell_type": "code",
   "execution_count": 68,
   "id": "0a1ac35d",
   "metadata": {},
   "outputs": [
    {
     "data": {
      "text/plain": [
       "3"
      ]
     },
     "execution_count": 68,
     "metadata": {},
     "output_type": "execute_result"
    }
   ],
   "source": [
    "s1.count('a')"
   ]
  },
  {
   "cell_type": "code",
   "execution_count": 69,
   "id": "e30cd59c",
   "metadata": {},
   "outputs": [
    {
     "data": {
      "text/plain": [
       "4"
      ]
     },
     "execution_count": 69,
     "metadata": {},
     "output_type": "execute_result"
    }
   ],
   "source": [
    "s1.lower().count('a')"
   ]
  },
  {
   "cell_type": "code",
   "execution_count": 70,
   "id": "d013402e",
   "metadata": {},
   "outputs": [
    {
     "data": {
      "text/plain": [
       "['Um', 'mafagafinho,', 'dois', 'mafagafinhos,', 'três', 'mafagafinhos...']"
      ]
     },
     "execution_count": 70,
     "metadata": {},
     "output_type": "execute_result"
    }
   ],
   "source": [
    "#quebrar strings\n",
    "s1 = 'Um mafagafinho, dois mafagafinhos, três mafagafinhos...'\n",
    "s1.split(' ')"
   ]
  },
  {
   "cell_type": "code",
   "execution_count": 72,
   "id": "4a9acfd1",
   "metadata": {},
   "outputs": [
    {
     "data": {
      "text/plain": [
       "'Um gatinho, dois gatinhos, três gatinhos...'"
      ]
     },
     "execution_count": 72,
     "metadata": {},
     "output_type": "execute_result"
    }
   ],
   "source": [
    "s1.replace('mafagafinho', 'gatinho')"
   ]
  },
  {
   "cell_type": "code",
   "execution_count": 73,
   "id": "33a960f6",
   "metadata": {},
   "outputs": [
    {
     "data": {
      "text/plain": [
       "'Um gatinho, dois mafagafinhos, três mafagafinhos...'"
      ]
     },
     "execution_count": 73,
     "metadata": {},
     "output_type": "execute_result"
    }
   ],
   "source": [
    "s1.replace('mafagafinho', 'gatinho', 1)"
   ]
  },
  {
   "cell_type": "code",
   "execution_count": 74,
   "id": "f8834c4e",
   "metadata": {},
   "outputs": [],
   "source": [
    "s1 = 'Lógica de Programação e Algoritmos'\n",
    "s2 = '42'"
   ]
  },
  {
   "cell_type": "code",
   "execution_count": 75,
   "id": "29cdfe91",
   "metadata": {},
   "outputs": [
    {
     "name": "stdout",
     "output_type": "stream",
     "text": [
      "False\n",
      "False\n"
     ]
    }
   ],
   "source": [
    "print(s1.isalnum())\n",
    "print(s2.isalpha())"
   ]
  },
  {
   "cell_type": "code",
   "execution_count": null,
   "id": "64e51598",
   "metadata": {},
   "outputs": [],
   "source": []
  }
 ],
 "metadata": {
  "kernelspec": {
   "display_name": "Python 3",
   "language": "python",
   "name": "python3"
  },
  "language_info": {
   "codemirror_mode": {
    "name": "ipython",
    "version": 3
   },
   "file_extension": ".py",
   "mimetype": "text/x-python",
   "name": "python",
   "nbconvert_exporter": "python",
   "pygments_lexer": "ipython3",
   "version": "3.8.10"
  }
 },
 "nbformat": 4,
 "nbformat_minor": 5
}
